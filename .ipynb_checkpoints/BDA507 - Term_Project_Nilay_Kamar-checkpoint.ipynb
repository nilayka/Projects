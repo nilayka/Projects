{
 "cells": [
  {
   "cell_type": "markdown",
   "metadata": {},
   "source": [
    "# BDA 507 - Introduction to Computer Programming (Python) "
   ]
  },
  {
   "cell_type": "markdown",
   "metadata": {},
   "source": [
    "## Term Project - 06.01.2020"
   ]
  },
  {
   "cell_type": "markdown",
   "metadata": {},
   "source": [
    "Nilay Kamar\n",
    "**Student ID**: 311902021\n",
    "**Email**: kamarn@mef.edu.tr"
   ]
  },
  {
   "cell_type": "markdown",
   "metadata": {},
   "source": [
    "# Zomato Data Analysis | Caddebostan vs. Nisantasi, Istanbul, Turkey "
   ]
  },
  {
   "cell_type": "markdown",
   "metadata": {},
   "source": [
    "Zomato is an application-based platform to find the best restaurant, cafe, and bar in a specific city. Their vision is better food for more people and they aim that connect people to food in every context but work closely with restaurants to enable a sustainable ecosystem. People can review and rate restaurants where they go to. Also, restaurants share their specific features such as payment types, gluten-free options, pet-friendly, no alcohol available, etc. \n",
    "\n",
    "In this project, I examined whether a significant difference in food price and restaurant preferences between Nişantaşı and Caddebostan. They are expensive and popular subzones in Istanbul. Also, I wonder where people like to go at Caddebostan and Nişantaşı, how their rates are, and which features attract the people through there.\n",
    "\n",
    "For that, I used an API. Zomato shares their data with an [API](https://developers.zomato.com/api) and you can easily access restaurant data in a given city, subzone, or country after getting an API key. I got data about restaurants and their highlights of Caddebostan which is a popular subzone in Istanbul."
   ]
  },
  {
   "cell_type": "markdown",
   "metadata": {},
   "source": [
    "### Loading Libraries and data"
   ]
  },
  {
   "cell_type": "markdown",
   "metadata": {},
   "source": [
    "Below are the libraries that are used in order to perform EDA (Exploratory data analysis) in this project."
   ]
  },
  {
   "cell_type": "code",
   "execution_count": null,
   "metadata": {},
   "outputs": [],
   "source": [
    "import pandas as pd\n",
    "import numpy as np\n",
    "import seaborn as sns\n",
    "import matplotlib\n",
    "from matplotlib import pyplot as plt\n",
    "import matplotlib.pyplot as plt\n",
    "import plotly.offline as py\n",
    "import plotly.graph_objs as go\n",
    "from plotly.offline import init_notebook_mode\n",
    "init_notebook_mode(connected=False)"
   ]
  },
  {
   "cell_type": "code",
   "execution_count": null,
   "metadata": {},
   "outputs": [],
   "source": [
    "res_df = pd.read_excel(r'/Users/nilaykamar/PycharmProjects/Term_Project/restaurants.xlsx') #restaurant data"
   ]
  },
  {
   "cell_type": "code",
   "execution_count": null,
   "metadata": {},
   "outputs": [],
   "source": [
    "high_df = pd.read_excel(r'/Users/nilaykamar/PycharmProjects/Term_Project/highlights.xlsx') #restaurant's highlights data"
   ]
  },
  {
   "cell_type": "code",
   "execution_count": null,
   "metadata": {},
   "outputs": [],
   "source": [
    "cuisines_df = pd.read_excel(r'/Users/nilaykamar/PycharmProjects/Term_Project/cuisines.xlsx') #cuisines data"
   ]
  },
  {
   "cell_type": "code",
   "execution_count": null,
   "metadata": {},
   "outputs": [],
   "source": [
    "foodie_df = pd.read_excel(r'/Users/nilaykamar/PycharmProjects/Term_Project/foodie_level.xlsx') #foodie level data"
   ]
  },
  {
   "cell_type": "markdown",
   "metadata": {},
   "source": [
    "### Getting basic ideas"
   ]
  },
  {
   "cell_type": "code",
   "execution_count": null,
   "metadata": {},
   "outputs": [],
   "source": [
    "print(\"Restaurant dataset contains {} rows and {} columns\".format(res_df.shape[0],res_df.shape[1]))\n",
    "print(\"Highlight dataset contains {} rows and {} columns\".format(high_df.shape[0],high_df.shape[1]))\n",
    "print(\"Cuisines dataset contains {} rows and {} columns\".format(cuisines_df.shape[0],cuisines_df.shape[1]))\n",
    "print(\"Foodie level dataset contains {} rows and {} columns\".format(foodie_df.shape[0],foodie_df.shape[1]))"
   ]
  },
  {
   "cell_type": "code",
   "execution_count": null,
   "metadata": {},
   "outputs": [],
   "source": [
    "res_df.info()"
   ]
  },
  {
   "cell_type": "code",
   "execution_count": null,
   "metadata": {},
   "outputs": [],
   "source": [
    "high_df.info()"
   ]
  },
  {
   "cell_type": "code",
   "execution_count": null,
   "metadata": {},
   "outputs": [],
   "source": [
    "cuisines_df.info()"
   ]
  },
  {
   "cell_type": "code",
   "execution_count": null,
   "metadata": {},
   "outputs": [],
   "source": [
    "foodie_df.info()"
   ]
  },
  {
   "cell_type": "markdown",
   "metadata": {},
   "source": [
    "Since there are data frames about cuisines, highlights, and foodie_level, these columns can be discarded."
   ]
  },
  {
   "cell_type": "code",
   "execution_count": null,
   "metadata": {},
   "outputs": [],
   "source": [
    "res_df = res_df.drop(['cuisines', 'highlights', 'foodie_level', 'price_range'], axis=1)\n",
    "res_df.head(5)"
   ]
  },
  {
   "cell_type": "code",
   "execution_count": null,
   "metadata": {},
   "outputs": [],
   "source": [
    "high_df = high_df.drop(['Unnamed: 0'], axis=1)\n",
    "cuisines_df = cuisines_df.drop(['Unnamed: 0'], axis=1)\n",
    "foodie_df = foodie_df.drop(['Unnamed: 0'], axis=1)"
   ]
  },
  {
   "cell_type": "markdown",
   "metadata": {},
   "source": [
    "Foodie level data and highlight data contain missing values. Because this means no highlight or foodie post, they can be discarded."
   ]
  },
  {
   "cell_type": "code",
   "execution_count": null,
   "metadata": {},
   "outputs": [],
   "source": [
    "print(high_df.isnull().sum())\n",
    "print(foodie_df.isnull().sum())"
   ]
  },
  {
   "cell_type": "code",
   "execution_count": null,
   "metadata": {},
   "outputs": [],
   "source": [
    "high_df = high_df.dropna() \n",
    "high_df.count()"
   ]
  },
  {
   "cell_type": "code",
   "execution_count": null,
   "metadata": {},
   "outputs": [],
   "source": [
    "foodie_df = foodie_df.dropna()\n",
    "foodie_df.count()"
   ]
  },
  {
   "cell_type": "code",
   "execution_count": null,
   "metadata": {},
   "outputs": [],
   "source": [
    "high_df.head()"
   ]
  },
  {
   "cell_type": "code",
   "execution_count": null,
   "metadata": {},
   "outputs": [],
   "source": [
    "cuisines_df.head()"
   ]
  },
  {
   "cell_type": "code",
   "execution_count": null,
   "metadata": {},
   "outputs": [],
   "source": [
    "foodie_df.head()"
   ]
  },
  {
   "cell_type": "markdown",
   "metadata": {},
   "source": [
    "#### Column Description"
   ]
  },
  {
   "cell_type": "markdown",
   "metadata": {},
   "source": [
    "Restaurant dataset:\n",
    " \n",
    " - **res_id**: a unique id of restaurants\n",
    " - **name**: restaurant name\n",
    " - **locality**: subzone name of restaurants\n",
    " - **latitude**: latitude of restaurant's location\n",
    " - **longitude**: longitude of restaurant's location\n",
    " - **establishment**: restaurant types\n",
    " - **all_reviews_count**: count of reviews\n",
    " - **aggregate_rating**: average ratings of restaurants\n",
    " - **rating_text**: text which equaled to rating according to Zomato\n",
    " - **rating_color**: color which equaled to rating according to Zomato\n",
    " - **votes**: number of votes to given restaurant\n",
    " - **photo_count**: number of photos posted on given restaurants\n",
    " - **average_cost_for_two**: average price of given restaurants for two people\n",
    " \n",
    "Highlight dataset:\n",
    "\n",
    " - **res_id**: a unique id of restaurants\n",
    " - **locality**: subzone name of restaurants\n",
    " - **highlight**: features that restaurants give customers\n",
    " \n",
    "Cuisines dataset:\n",
    "\n",
    " - **res_id**: a unique id of restaurants\n",
    " - **locality**: subzone name of restaurants\n",
    " - **cuisines**: cuisines of restaurants\n",
    " \n",
    "Foodie level dataset:\n",
    "\n",
    " - **res_id**: a unique id of restaurants\n",
    " - **locality**: subzone name of restaurants\n",
    " - **foodie_level**: level which equaled to foodie according to Zomato *foodie: users of Zomato*"
   ]
  },
  {
   "cell_type": "markdown",
   "metadata": {},
   "source": [
    "#### Outlier Detection"
   ]
  },
  {
   "cell_type": "code",
   "execution_count": null,
   "metadata": {},
   "outputs": [],
   "source": [
    "sns.boxplot(x=res_df['average_cost_for_two'])"
   ]
  },
  {
   "cell_type": "markdown",
   "metadata": {},
   "source": [
    "There is no outlier in average price."
   ]
  },
  {
   "cell_type": "markdown",
   "metadata": {},
   "source": [
    "## Explatory Data Analysis"
   ]
  },
  {
   "cell_type": "markdown",
   "metadata": {},
   "source": [
    "### Common restaurant types in Istanbul? "
   ]
  },
  {
   "cell_type": "code",
   "execution_count": null,
   "metadata": {},
   "outputs": [],
   "source": [
    "plt.figure(figsize=(10,7))\n",
    "types=res_df[res_df['locality'] == 'Nişantaşı']['establishment'].value_counts()[:100]\n",
    "\n",
    "sns.barplot(x=types, y=types.index, palette='deep')\n",
    "plt.title(\"Most popular restaurant types in Nisantasi\")\n",
    "plt.xlabel(\"Number of restaurants\")"
   ]
  },
  {
   "cell_type": "code",
   "execution_count": null,
   "metadata": {},
   "outputs": [],
   "source": [
    "plt.figure(figsize=(10,7))\n",
    "types=res_df[res_df['locality'] == 'Caddebostan']['establishment'].value_counts()[:20]\n",
    "\n",
    "sns.barplot(x=types, y=types.index, palette='deep')\n",
    "plt.title(\"Most popular restaurant types in Caddebostan\")\n",
    "plt.xlabel(\"Number of restaurants\")"
   ]
  },
  {
   "cell_type": "markdown",
   "metadata": {},
   "source": [
    "As it can be shown graphs above, Cafe's are popular restaurant types in both Caddebostan and Nişantaşı. Fine dining restaurants seems to have rising trend at Nisantasi."
   ]
  },
  {
   "cell_type": "markdown",
   "metadata": {},
   "source": [
    "### Highlights of restaurants"
   ]
  },
  {
   "cell_type": "code",
   "execution_count": null,
   "metadata": {},
   "outputs": [],
   "source": [
    "high_df[high_df['locality'] == 'Nişantaşı'].highlight.value_counts().nlargest(40).plot(kind='bar', figsize=(20,5))\n",
    "plt.title(\"Highlights of restaurants at Nisantasi\")\n",
    "plt.ylabel('Number of restaurants')\n",
    "plt.xlabel('Highlights');"
   ]
  },
  {
   "cell_type": "code",
   "execution_count": null,
   "metadata": {},
   "outputs": [],
   "source": [
    "high_df[high_df['locality'] == 'Caddebostan'].highlight.value_counts().nlargest(40).plot(kind='bar', figsize=(20,5))\n",
    "plt.title(\"Highlights of restaurants at Caddebostan\")\n",
    "plt.ylabel('Number of restaurants')\n",
    "plt.xlabel('Highlights');"
   ]
  },
  {
   "cell_type": "markdown",
   "metadata": {},
   "source": [
    "Restaurants have similar features at both Caddebostan and Nisantasi. Interestingly, popular eating trends were started to enter among desirable features such as gluten-free options and organic food serves, etc. According to limited data about people's prefers, people care about smoking at Caddebostan less than Nisantasi."
   ]
  },
  {
   "cell_type": "markdown",
   "metadata": {},
   "source": [
    "### Average cost for two person"
   ]
  },
  {
   "cell_type": "code",
   "execution_count": null,
   "metadata": {},
   "outputs": [],
   "source": [
    "plt.figure(figsize=(10,7))\n",
    "rating=res_df[res_df['locality'] == 'Nişantaşı']['average_cost_for_two']\n",
    "sns.distplot(rating,bins=20)\n",
    "plt.title(\"Average Price in Nisantasi\")\n",
    "plt.xlabel(\"Average cost for two people\")"
   ]
  },
  {
   "cell_type": "code",
   "execution_count": null,
   "metadata": {},
   "outputs": [],
   "source": [
    "plt.figure(figsize=(10,7))\n",
    "rating=res_df[res_df['locality'] == 'Caddebostan']['average_cost_for_two']\n",
    "sns.distplot(rating,bins=20)\n",
    "plt.title(\"Average Price in Caddebostan\")\n",
    "plt.xlabel(\"Average cost for two people\")"
   ]
  },
  {
   "cell_type": "markdown",
   "metadata": {},
   "source": [
    "According to graphs above, Nisantasi seems to have higher price than Caddebostan."
   ]
  },
  {
   "cell_type": "markdown",
   "metadata": {},
   "source": [
    "### Rating distribution"
   ]
  },
  {
   "cell_type": "code",
   "execution_count": null,
   "metadata": {},
   "outputs": [],
   "source": [
    "plt.figure(figsize=(10,7))\n",
    "rating=res_df[res_df['locality'] == 'Nişantaşı']['aggregate_rating']\n",
    "sns.distplot(rating, bins=20)\n",
    "plt.title(\"Average rating in Nişantaşı\")\n",
    "plt.xlabel(\"Average Rating\")"
   ]
  },
  {
   "cell_type": "code",
   "execution_count": null,
   "metadata": {},
   "outputs": [],
   "source": [
    "plt.figure(figsize=(10,7))\n",
    "rating=res_df[res_df['locality'] == 'Caddebostan']['aggregate_rating']\n",
    "sns.distplot(rating,bins=20)\n",
    "plt.title(\"Average rating in Caddebostan\")\n",
    "plt.xlabel(\"Average Rating\")"
   ]
  },
  {
   "cell_type": "markdown",
   "metadata": {},
   "source": [
    "Nisantası and Caddebostan nearly have the same average ratings range.\n",
    "Restaurants have ratings more than 4.5 are rare."
   ]
  },
  {
   "cell_type": "markdown",
   "metadata": {},
   "source": [
    "### Average price vs. average rating"
   ]
  },
  {
   "cell_type": "code",
   "execution_count": null,
   "metadata": {},
   "outputs": [],
   "source": [
    "plt.figure(figsize=(10,7))\n",
    "sns.scatterplot(x=\"average_cost_for_two\",y='aggregate_rating', hue='locality', data=res_df)\n",
    "plt.show()"
   ]
  },
  {
   "cell_type": "markdown",
   "metadata": {},
   "source": [
    "### Average price vs. Establishments"
   ]
  },
  {
   "cell_type": "code",
   "execution_count": null,
   "metadata": {},
   "outputs": [],
   "source": [
    "fig, ax = plt.subplots(figsize=(10,6))\n",
    "sns.boxplot(res_df[res_df['locality'] == 'Nişantaşı']['average_cost_for_two'], res_df[res_df['locality'] == 'Nişantaşı']['establishment'], showfliers=False)\n",
    "\n",
    "plt.title(\"Average price by restaurant types at Nisantasi\")\n",
    "ax.set_xlabel('Average Price')\n",
    "ax.set_ylabel('Restaurant types')\n",
    "plt.show()"
   ]
  },
  {
   "cell_type": "code",
   "execution_count": null,
   "metadata": {},
   "outputs": [],
   "source": [
    "fig, ax = plt.subplots(figsize=(10,6))\n",
    "sns.boxplot(res_df[res_df['locality'] == 'Caddebostan']['average_cost_for_two'], res_df[res_df['locality'] == 'Caddebostan']['establishment'], showfliers=False)\n",
    "plt.xticks(rotation=90)\n",
    "\n",
    "plt.title(\"Average price by restaurant types at Caddebostan\")\n",
    "ax.set_xlabel('Average Price')\n",
    "ax.set_ylabel('Restaurant types')\n",
    "plt.show()"
   ]
  },
  {
   "cell_type": "markdown",
   "metadata": {},
   "source": [
    "- It seems that restaurants which their types are Cafe have higher price at Nisantası than Caddebostan.\n",
    "- While 'meyhane's are the most expensive restaurant types in Caddebostan, this rank is belong to fine dining restaurants at Nisantasi."
   ]
  },
  {
   "cell_type": "markdown",
   "metadata": {},
   "source": [
    "### Average rating"
   ]
  },
  {
   "cell_type": "code",
   "execution_count": null,
   "metadata": {},
   "outputs": [],
   "source": [
    "plt.figure(figsize=(10,6))\n",
    "rating=res_df[res_df['locality'] == 'Nişantaşı']['aggregate_rating'].value_counts()\n",
    "sns.barplot(x=rating.index,y=rating)\n",
    "plt.xlabel(\"Ratings\")\n",
    "plt.ylabel('count')"
   ]
  },
  {
   "cell_type": "code",
   "execution_count": null,
   "metadata": {},
   "outputs": [],
   "source": [
    "plt.figure(figsize=(10,6))\n",
    "rating=res_df[res_df['locality'] == 'Caddebostan']['aggregate_rating'].value_counts()\n",
    "sns.barplot(x=rating.index,y=rating)\n",
    "plt.xlabel(\"Ratings\")\n",
    "plt.ylabel('count')"
   ]
  },
  {
   "cell_type": "markdown",
   "metadata": {},
   "source": [
    "### Cuisines distribution"
   ]
  },
  {
   "cell_type": "code",
   "execution_count": null,
   "metadata": {},
   "outputs": [],
   "source": [
    "plt.figure(figsize=(15,10))\n",
    "cuisines=cuisines_df[cuisines_df['locality'] == 'Nişantaşı']['cuisine'].value_counts()\n",
    "sns.barplot(cuisines,cuisines.index)\n",
    "plt.xlabel('Count')\n",
    "plt.title(\"Most popular cuisines of Nisantasi\")"
   ]
  },
  {
   "cell_type": "code",
   "execution_count": null,
   "metadata": {},
   "outputs": [],
   "source": [
    "plt.figure(figsize=(15,10))\n",
    "cuisines=cuisines_df[cuisines_df['locality'] == 'Caddebostan']['cuisine'].value_counts()\n",
    "sns.barplot(cuisines,cuisines.index)\n",
    "plt.xlabel('Count')\n",
    "plt.title(\"Most popular cuisines of Caddebostan\")"
   ]
  },
  {
   "cell_type": "markdown",
   "metadata": {},
   "source": [
    "### Correlation matrix"
   ]
  },
  {
   "cell_type": "markdown",
   "metadata": {},
   "source": [
    "A correlation matrix is a table showing the value of the correlation coefficient (Correlation coefficients are used in statistics to measure how strong a relationship is between two variables.) between sets of variables. Each attribute of the dataset is compared with the other attributes to find out the correlation coefficient. This analysis allows us to see which pairs have the highest correlation, the pairs which are highly correlated represent the same variance of the dataset thus we can further analyze them to understand which attribute among the pairs are most significant for building the model."
   ]
  },
  {
   "cell_type": "code",
   "execution_count": null,
   "metadata": {},
   "outputs": [],
   "source": [
    "plt.figure(figsize=(12,8))\n",
    "c= res_df[res_df['locality'] == 'Caddebostan'].corr()\n",
    "sns.heatmap(c, cmap='BrBG', annot=True)\n",
    "c"
   ]
  },
  {
   "cell_type": "code",
   "execution_count": null,
   "metadata": {},
   "outputs": [],
   "source": [
    "plt.figure(figsize=(12,8))\n",
    "c= res_df[res_df['locality'] == 'Nişantaşı'].corr()\n",
    "sns.heatmap(c, cmap='BrBG', annot=True)\n",
    "c"
   ]
  },
  {
   "cell_type": "markdown",
   "metadata": {},
   "source": [
    "According to the correlation matrixes above, there is a strong relationship between revies, votes, and posting photos. Hence, this relationship is stronger at Caddebostan than Nisantasi."
   ]
  },
  {
   "cell_type": "code",
   "execution_count": null,
   "metadata": {},
   "outputs": [],
   "source": [
    "for i in range(0, len(res_df.columns), 5):\n",
    "    sns.pairplot(data=res_df,\n",
    "                x_vars=res_df.columns[i:i+5],\n",
    "                y_vars=['average_cost_for_two'])"
   ]
  },
  {
   "cell_type": "code",
   "execution_count": null,
   "metadata": {},
   "outputs": [],
   "source": []
  },
  {
   "cell_type": "raw",
   "metadata": {},
   "source": [
    "According to the heat map above, it can be shown that people express their thoughts by voting, posting photos, or review the restaurants. These features have a strong relationship with each other. "
   ]
  },
  {
   "cell_type": "code",
   "execution_count": null,
   "metadata": {},
   "outputs": [],
   "source": [
    "sns.lmplot(x=\"votes\", y=\"all_reviews_count\", data=res_df, fit_reg=False, hue=\"locality\")"
   ]
  },
  {
   "cell_type": "code",
   "execution_count": null,
   "metadata": {},
   "outputs": [],
   "source": [
    "sns.lmplot(x=\"photo_count\", y=\"all_reviews_count\", data=res_df, fit_reg=False, hue=\"locality\")"
   ]
  },
  {
   "cell_type": "markdown",
   "metadata": {},
   "source": [
    "### Foodie levels"
   ]
  },
  {
   "cell_type": "code",
   "execution_count": null,
   "metadata": {},
   "outputs": [],
   "source": [
    "x=foodie_df[foodie_df['locality'] == 'Nişantaşı']['foodie_level'].value_counts()\n",
    "colors = ['#FEBFB3', '#E1396C']\n",
    "\n",
    "trace=go.Pie(labels=x.index,values=x,textinfo=\"value\",\n",
    "             marker=dict(colors=colors, \n",
    "                         line=dict(color='#000000', width=2)))\n",
    "\n",
    "layout=go.Layout(title=\"Foodie levels of Nişantaşı\",width=500,height=500)\n",
    "fig=go.Figure(data=[trace],layout=layout)\n",
    "py.iplot(fig, filename='pie_chart_subplots')"
   ]
  },
  {
   "cell_type": "code",
   "execution_count": null,
   "metadata": {},
   "outputs": [],
   "source": [
    "x=foodie_df[foodie_df['locality'] == 'Caddebostan']['foodie_level'].value_counts()\n",
    "colors = ['#FEBFB3', '#E1396C']\n",
    "\n",
    "trace=go.Pie(labels=x.index,values=x,textinfo=\"value\",\n",
    "             marker=dict(colors=colors, \n",
    "                         line=dict(color='#000000', width=2)))\n",
    "\n",
    "layout=go.Layout(title=\"Foodie levels of Caddebostan\",width=500,height=500)\n",
    "fig=go.Figure(data=[trace],layout=layout)\n",
    "py.iplot(fig, filename='pie_chart_subplots')"
   ]
  },
  {
   "cell_type": "markdown",
   "metadata": {},
   "source": [
    "People who match connoisseur according to Zomato prefer Caddebostan to eat and chill."
   ]
  },
  {
   "cell_type": "markdown",
   "metadata": {},
   "source": [
    "### Plotting restaurants on map"
   ]
  },
  {
   "cell_type": "code",
   "execution_count": null,
   "metadata": {},
   "outputs": [],
   "source": [
    "BBox_c = (res_df[res_df['locality'] == 'Caddebostan']['longitude'].min(),\n",
    "          res_df[res_df['locality'] == 'Caddebostan']['longitude'].max(),\n",
    "          res_df[res_df['locality'] == 'Caddebostan']['latitude'].min(),\n",
    "          res_df[res_df['locality'] == 'Caddebostan']['latitude'].max())"
   ]
  },
  {
   "cell_type": "code",
   "execution_count": null,
   "metadata": {},
   "outputs": [],
   "source": [
    "map_c = plt.imread('/Users/nilaykamar/PycharmProjects/Term_Project/map.png')"
   ]
  },
  {
   "cell_type": "code",
   "execution_count": null,
   "metadata": {},
   "outputs": [],
   "source": [
    "fig, ax = plt.subplots(figsize = (8,7))\n",
    "ax.scatter(res_df[res_df['locality'] == 'Caddebostan']['longitude'],\n",
    "           res_df[res_df['locality'] == 'Caddebostan']['latitude'],\n",
    "           zorder=1, c='b', s=10)\n",
    "\n",
    "ax.set_title('Plotting Restaurants Data on Caddebostan Map')\n",
    "ax.set_xlim(BBox_c[0],BBox_c[1])\n",
    "ax.set_ylim(BBox_c[2],BBox_c[3])\n",
    "ax.imshow(map_c, zorder=0, extent = BBox_c, aspect= 'equal')"
   ]
  },
  {
   "cell_type": "code",
   "execution_count": null,
   "metadata": {},
   "outputs": [],
   "source": [
    "BBox_n = (res_df[res_df['locality'] == 'Nişantaşı']['longitude'].min(),\n",
    "          res_df[res_df['locality'] == 'Nişantaşı']['longitude'].max(),\n",
    "          res_df[res_df['locality'] == 'Nişantaşı']['latitude'].min(),\n",
    "          res_df[res_df['locality'] == 'Nişantaşı']['latitude'].max())\n",
    "BBox_n"
   ]
  },
  {
   "cell_type": "code",
   "execution_count": null,
   "metadata": {},
   "outputs": [],
   "source": [
    "map_n = plt.imread('/Users/nilaykamar/PycharmProjects/Term_Project/map-2.png')"
   ]
  },
  {
   "cell_type": "code",
   "execution_count": null,
   "metadata": {},
   "outputs": [],
   "source": [
    "fig, ax = plt.subplots(figsize = (8,7))\n",
    "ax.scatter(res_df[res_df['locality'] == 'Nişantaşı']['longitude'],\n",
    "           res_df[res_df['locality'] == 'Nişantaşı']['latitude'],\n",
    "           zorder=1, c='b', s=10)\n",
    "\n",
    "ax.set_title('Plotting Restaurants Data on Nişantaşı Map')\n",
    "ax.set_xlim(BBox_n[0],BBox_n[1])\n",
    "ax.set_ylim(BBox_n[2],BBox_n[3])\n",
    "ax.imshow(map_n, zorder=0, extent = BBox_n, aspect= 'equal')"
   ]
  },
  {
   "cell_type": "markdown",
   "metadata": {},
   "source": [
    "## Where should you go at Nisantası?"
   ]
  },
  {
   "cell_type": "code",
   "execution_count": null,
   "metadata": {},
   "outputs": [],
   "source": [
    "res_n = res_df[res_df['locality'] == 'Nişantaşı']\n",
    "res_n.iloc[res_n.groupby('establishment')['aggregate_rating'].agg(pd.Series.idxmax)].sort_values(by='aggregate_rating', ascending=False)"
   ]
  },
  {
   "cell_type": "markdown",
   "metadata": {},
   "source": [
    "## Where should you go at Caddebostan?"
   ]
  },
  {
   "cell_type": "code",
   "execution_count": null,
   "metadata": {},
   "outputs": [],
   "source": [
    "res_c = res_df[res_df['locality'] == 'Caddebostan']\n",
    "res_c.loc[res_c.groupby('establishment')['aggregate_rating'].agg(pd.Series.idxmax)].sort_values(by='aggregate_rating', ascending=False)"
   ]
  },
  {
   "cell_type": "markdown",
   "metadata": {},
   "source": [
    "## Results"
   ]
  },
  {
   "cell_type": "markdown",
   "metadata": {},
   "source": [
    "While I examined Zomato dataset, it can be got out results below:\n",
    "\n",
    " - Restaurants have a higher price at Nisantası than Caddebostan.\n",
    " - Many restaurants have similar features such as credit cards, cash, air conditioned, or indoor/outdoor settings.\n",
    " - Popular eating trends start to form restaurant features such as vegan options, gluten-free, or organic food. Nisantası is more sensitive to popular eating trends.\n",
    " - Disparately, Japanese cuisines have a rising trend at Nisantası compare to Caddebostan.\n",
    " \n",
    "I also learned that:\n",
    "\n",
    " - Working with JSON files after got the data via API\n",
    " - Cleaning dataset\n",
    " - Plotting different types of graphs\n",
    " - Interpreting heat maps\n",
    " - Visualizing results\n",
    " - Comparing two different categories according to features"
   ]
  }
 ],
 "metadata": {
  "kernelspec": {
   "display_name": "Python 3",
   "language": "python",
   "name": "python3"
  },
  "language_info": {
   "codemirror_mode": {
    "name": "ipython",
    "version": 3
   },
   "file_extension": ".py",
   "mimetype": "text/x-python",
   "name": "python",
   "nbconvert_exporter": "python",
   "pygments_lexer": "ipython3",
   "version": "3.7.6"
  }
 },
 "nbformat": 4,
 "nbformat_minor": 4
}
